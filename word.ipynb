{
  "nbformat": 4,
  "nbformat_minor": 0,
  "metadata": {
    "colab": {
      "provenance": [],
      "authorship_tag": "ABX9TyMmvuSuqKRenU4/ittpvH6L"
    },
    "kernelspec": {
      "name": "python3",
      "display_name": "Python 3"
    },
    "language_info": {
      "name": "python"
    }
  },
  "cells": [
    {
      "cell_type": "code",
      "execution_count": null,
      "metadata": {
        "id": "gHJfqYP3P-vM"
      },
      "outputs": [],
      "source": [
        "#1 Import the necessary libraries\n",
        "!pip install python-docx\n",
        "import docx\n",
        "from google.colab import files\n",
        "\n",
        "# Select the Word file from your Local Machine\n",
        "uploaded = files.upload()\n",
        "\n",
        "# Open the Word file\n",
        "doc = docx.Document(list(uploaded.keys())[0])\n",
        "\n",
        "#CHANGE THE GOOGLE DOC NAME WITH EACH DOWNLOAD TO LOCAL MACHINE AS COLAB SAVES PREVIOUS NAME IN MEMORY"
      ]
    },
    {
      "cell_type": "code",
      "source": [
        "#2 PRINT: Iterate through each paragraph in the document\n",
        "for paragraph in doc.paragraphs:\n",
        "  # Print the text of the paragraph\n",
        "  print(paragraph.text)"
      ],
      "metadata": {
        "id": "oOQpH9woQDK7"
      },
      "execution_count": null,
      "outputs": []
    },
    {
      "cell_type": "code",
      "source": [
        "#3 Check if the line is equal to 'a certain sentence' and delete\n",
        "for para in doc.paragraphs:\n",
        "    if para.text == 'Number title description':\n",
        "        para.text = \"\""
      ],
      "metadata": {
        "id": "QtmcUO2PQFOD"
      },
      "execution_count": 32,
      "outputs": []
    },
    {
      "cell_type": "code",
      "source": [
        "#4 Check if the line starts with 'word' and delete\n",
        "for para in doc.paragraphs:\n",
        "    if para.text.startswith('Zero'):\n",
        "        para.text = \"\""
      ],
      "metadata": {
        "id": "Ctk75YBcQIVA"
      },
      "execution_count": 34,
      "outputs": []
    },
    {
      "cell_type": "code",
      "source": [
        "#5 Check if the line contains 'word' and delete\n",
        "for para in doc.paragraphs:\n",
        "    if 'first' in para.text:\n",
        "        para.text = \"\""
      ],
      "metadata": {
        "id": "gskHn4Q2QI9I"
      },
      "execution_count": 36,
      "outputs": []
    },
    {
      "cell_type": "code",
      "source": [
        "#6 Add 'some words' before all entries beginning in 'word'\n",
        "for para in doc.paragraphs:\n",
        "    if para.text.startswith('Two'):\n",
        "        para.text = \"This is \" + para.text "
      ],
      "metadata": {
        "id": "DsPrrXGDQMXl"
      },
      "execution_count": 38,
      "outputs": []
    },
    {
      "cell_type": "code",
      "source": [
        "#7 Add 'some words' after all entries beginning in 'word'\n",
        "for para in doc.paragraphs:\n",
        "    if para.text.startswith(\"Three\"):\n",
        "        para.text += \" in line\""
      ],
      "metadata": {
        "id": "z-l0zMAbRAU3"
      },
      "execution_count": 40,
      "outputs": []
    },
    {
      "cell_type": "code",
      "source": [
        "#8 Check if the line contains 'word' and replace with 'a sentence'\n",
        "for para in doc.paragraphs:\n",
        "    if 'Four' in para.text:\n",
        "        para.text = \"Four this is\""
      ],
      "metadata": {
        "id": "Nic5I9hTWtbS"
      },
      "execution_count": 42,
      "outputs": []
    },
    {
      "cell_type": "code",
      "source": [
        "#9 Check if the line does not contain 'word' and delete\n",
        "for para in doc.paragraphs:\n",
        "    if 'Five' not in para.text:\n",
        "        para.text = \"\""
      ],
      "metadata": {
        "id": "MJfK8ezzQds6"
      },
      "execution_count": 44,
      "outputs": []
    },
    {
      "cell_type": "code",
      "source": [
        "#10 Iterate through the paragraphs in the document and delete duplicates\n",
        "unique_lines = set()\n",
        "\n",
        "for para in doc.paragraphs:\n",
        "    # If the line is not already in the set, add it\n",
        "    if para.text not in unique_lines:\n",
        "        unique_lines.add(para.text)\n",
        "    # If the line is already in the set, remove it\n",
        "    else:\n",
        "        para.text = \"\""
      ],
      "metadata": {
        "id": "VcdbypGQRR2O"
      },
      "execution_count": 46,
      "outputs": []
    },
    {
      "cell_type": "code",
      "source": [
        "#11 Save the changes to a modified document\n",
        "doc.save('modified.docx')\n",
        "\n",
        "# Download the modified Word file\n",
        "files.download('modified.docx')"
      ],
      "metadata": {
        "colab": {
          "base_uri": "https://localhost:8080/",
          "height": 17
        },
        "id": "zG00aINQRC1y",
        "outputId": "9326f871-344b-4dc2-dd2f-897f15952aac"
      },
      "execution_count": 48,
      "outputs": [
        {
          "output_type": "display_data",
          "data": {
            "text/plain": [
              "<IPython.core.display.Javascript object>"
            ],
            "application/javascript": [
              "\n",
              "    async function download(id, filename, size) {\n",
              "      if (!google.colab.kernel.accessAllowed) {\n",
              "        return;\n",
              "      }\n",
              "      const div = document.createElement('div');\n",
              "      const label = document.createElement('label');\n",
              "      label.textContent = `Downloading \"${filename}\": `;\n",
              "      div.appendChild(label);\n",
              "      const progress = document.createElement('progress');\n",
              "      progress.max = size;\n",
              "      div.appendChild(progress);\n",
              "      document.body.appendChild(div);\n",
              "\n",
              "      const buffers = [];\n",
              "      let downloaded = 0;\n",
              "\n",
              "      const channel = await google.colab.kernel.comms.open(id);\n",
              "      // Send a message to notify the kernel that we're ready.\n",
              "      channel.send({})\n",
              "\n",
              "      for await (const message of channel.messages) {\n",
              "        // Send a message to notify the kernel that we're ready.\n",
              "        channel.send({})\n",
              "        if (message.buffers) {\n",
              "          for (const buffer of message.buffers) {\n",
              "            buffers.push(buffer);\n",
              "            downloaded += buffer.byteLength;\n",
              "            progress.value = downloaded;\n",
              "          }\n",
              "        }\n",
              "      }\n",
              "      const blob = new Blob(buffers, {type: 'application/binary'});\n",
              "      const a = document.createElement('a');\n",
              "      a.href = window.URL.createObjectURL(blob);\n",
              "      a.download = filename;\n",
              "      div.appendChild(a);\n",
              "      a.click();\n",
              "      div.remove();\n",
              "    }\n",
              "  "
            ]
          },
          "metadata": {}
        },
        {
          "output_type": "display_data",
          "data": {
            "text/plain": [
              "<IPython.core.display.Javascript object>"
            ],
            "application/javascript": [
              "download(\"download_087ad6ef-6240-49f9-a77e-762fb1fcb75e\", \"modified.docx\", 6035)"
            ]
          },
          "metadata": {}
        }
      ]
    }
  ]
}